{
 "cells": [
  {
   "cell_type": "markdown",
   "id": "64f88766",
   "metadata": {},
   "source": [
    "# Sentiment analysis for stock price prediction\n"
   ]
  },
  {
   "cell_type": "markdown",
   "id": "2a54259b",
   "metadata": {},
   "source": [
    "#### Introduction\n",
    "\n",
    "This notebook ..."
   ]
  },
  {
   "cell_type": "markdown",
   "id": "ecd650d8",
   "metadata": {},
   "source": [
    "#### Grab data sources and merge into a single big dataframe"
   ]
  },
  {
   "cell_type": "code",
   "execution_count": 12,
   "id": "dde2d246",
   "metadata": {},
   "outputs": [
    {
     "name": "stdout",
     "output_type": "stream",
     "text": [
      "Running in a virtual environment: c:\\mainrism\\imp\\enterprises\\projects\\tweet-stock-sentiment\\.venv\n"
     ]
    }
   ],
   "source": [
    "# Ensure correct packages and settings\n",
    "import os\n",
    "import sys\n",
    "import pathlib\n",
    "import pandas as pd\n",
    "from pathlib import Path\n",
    "\n",
    "# Check if running within a virtual environment\n",
    "if sys.prefix != sys.base_prefix:\n",
    "    print(f\"Running in a virtual environment: {sys.prefix}\")\n",
    "else:\n",
    "    print(\"Not running in a virtual environment. Activate the environment, install the packages and try again.\")\n",
    "    sys.exit(1)"
   ]
  },
  {
   "cell_type": "code",
   "execution_count": 10,
   "id": "18df0811",
   "metadata": {},
   "outputs": [
    {
     "data": {
      "text/html": [
       "<div>\n",
       "<style scoped>\n",
       "    .dataframe tbody tr th:only-of-type {\n",
       "        vertical-align: middle;\n",
       "    }\n",
       "\n",
       "    .dataframe tbody tr th {\n",
       "        vertical-align: top;\n",
       "    }\n",
       "\n",
       "    .dataframe thead th {\n",
       "        text-align: right;\n",
       "    }\n",
       "</style>\n",
       "<table border=\"1\" class=\"dataframe\">\n",
       "  <thead>\n",
       "    <tr style=\"text-align: right;\">\n",
       "      <th></th>\n",
       "      <th>Date</th>\n",
       "      <th>Adj Close</th>\n",
       "      <th>Close</th>\n",
       "      <th>High</th>\n",
       "      <th>Low</th>\n",
       "      <th>Open</th>\n",
       "      <th>Volume</th>\n",
       "    </tr>\n",
       "  </thead>\n",
       "  <tbody>\n",
       "    <tr>\n",
       "      <th>0</th>\n",
       "      <td>1999-01-22</td>\n",
       "      <td>0.037615</td>\n",
       "      <td>0.041016</td>\n",
       "      <td>0.048828</td>\n",
       "      <td>0.038802</td>\n",
       "      <td>0.043750</td>\n",
       "      <td>2714688000</td>\n",
       "    </tr>\n",
       "    <tr>\n",
       "      <th>1</th>\n",
       "      <td>1999-01-25</td>\n",
       "      <td>0.041556</td>\n",
       "      <td>0.045313</td>\n",
       "      <td>0.045833</td>\n",
       "      <td>0.041016</td>\n",
       "      <td>0.044271</td>\n",
       "      <td>510480000</td>\n",
       "    </tr>\n",
       "    <tr>\n",
       "      <th>2</th>\n",
       "      <td>1999-01-26</td>\n",
       "      <td>0.038331</td>\n",
       "      <td>0.041797</td>\n",
       "      <td>0.046745</td>\n",
       "      <td>0.041146</td>\n",
       "      <td>0.045833</td>\n",
       "      <td>343200000</td>\n",
       "    </tr>\n",
       "    <tr>\n",
       "      <th>3</th>\n",
       "      <td>1999-01-27</td>\n",
       "      <td>0.038212</td>\n",
       "      <td>0.041667</td>\n",
       "      <td>0.042969</td>\n",
       "      <td>0.039583</td>\n",
       "      <td>0.041927</td>\n",
       "      <td>244368000</td>\n",
       "    </tr>\n",
       "    <tr>\n",
       "      <th>4</th>\n",
       "      <td>1999-01-28</td>\n",
       "      <td>0.038092</td>\n",
       "      <td>0.041536</td>\n",
       "      <td>0.041927</td>\n",
       "      <td>0.041276</td>\n",
       "      <td>0.041667</td>\n",
       "      <td>227520000</td>\n",
       "    </tr>\n",
       "  </tbody>\n",
       "</table>\n",
       "</div>"
      ],
      "text/plain": [
       "         Date  Adj Close     Close      High       Low      Open      Volume\n",
       "0  1999-01-22   0.037615  0.041016  0.048828  0.038802  0.043750  2714688000\n",
       "1  1999-01-25   0.041556  0.045313  0.045833  0.041016  0.044271   510480000\n",
       "2  1999-01-26   0.038331  0.041797  0.046745  0.041146  0.045833   343200000\n",
       "3  1999-01-27   0.038212  0.041667  0.042969  0.039583  0.041927   244368000\n",
       "4  1999-01-28   0.038092  0.041536  0.041927  0.041276  0.041667   227520000"
      ]
     },
     "execution_count": 10,
     "metadata": {},
     "output_type": "execute_result"
    }
   ],
   "source": [
    "# Import NVDA daily stock prices CSV into a DataFrame\n",
    "nvda_df = pd.read_csv(Path(\"data/nvda-daily-stock-prices.csv\"))\n",
    "nvda_df.head()"
   ]
  }
 ],
 "metadata": {
  "kernelspec": {
   "display_name": ".venv",
   "language": "python",
   "name": "python3"
  },
  "language_info": {
   "codemirror_mode": {
    "name": "ipython",
    "version": 3
   },
   "file_extension": ".py",
   "mimetype": "text/x-python",
   "name": "python",
   "nbconvert_exporter": "python",
   "pygments_lexer": "ipython3",
   "version": "3.13.7"
  }
 },
 "nbformat": 4,
 "nbformat_minor": 5
}
