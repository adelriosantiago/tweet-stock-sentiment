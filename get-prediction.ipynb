{
 "cells": [
  {
   "cell_type": "markdown",
   "id": "64f88766",
   "metadata": {},
   "source": [
    "# Sentiment analysis for stock price prediction\n"
   ]
  },
  {
   "cell_type": "markdown",
   "id": "2a54259b",
   "metadata": {},
   "source": [
    "#### Introduction\n",
    "\n",
    "This notebook ..."
   ]
  },
  {
   "cell_type": "code",
   "execution_count": 51,
   "id": "dde2d246",
   "metadata": {},
   "outputs": [
    {
     "name": "stdout",
     "output_type": "stream",
     "text": [
      "Running in a virtual environment: c:\\mainrism\\imp\\enterprises\\projects\\tweet-stock-sentiment\\.venv\n"
     ]
    }
   ],
   "source": [
    "# Ensure correct packages and settings\n",
    "import os\n",
    "import sys\n",
    "import pathlib\n",
    "import pandas as pd\n",
    "from pathlib import Path\n",
    "\n",
    "# Check if running within a virtual environment\n",
    "if sys.prefix != sys.base_prefix:\n",
    "    print(f\"Running in a virtual environment: {sys.prefix}\")\n",
    "else:\n",
    "    print(\"Not running in a virtual environment. Activate the environment, install the packages and try again.\")\n",
    "    sys.exit(1)"
   ]
  },
  {
   "cell_type": "code",
   "execution_count": 58,
   "id": "5a5da235",
   "metadata": {},
   "outputs": [
    {
     "name": "stdout",
     "output_type": "stream",
     "text": [
      "First date: 2022-11-21, Last date: 2023-02-06\n"
     ]
    },
    {
     "data": {
      "text/html": [
       "<div>\n",
       "<style scoped>\n",
       "    .dataframe tbody tr th:only-of-type {\n",
       "        vertical-align: middle;\n",
       "    }\n",
       "\n",
       "    .dataframe tbody tr th {\n",
       "        vertical-align: top;\n",
       "    }\n",
       "\n",
       "    .dataframe thead th {\n",
       "        text-align: right;\n",
       "    }\n",
       "</style>\n",
       "<table border=\"1\" class=\"dataframe\">\n",
       "  <thead>\n",
       "    <tr style=\"text-align: right;\">\n",
       "      <th></th>\n",
       "      <th>Date</th>\n",
       "      <th>Datetime</th>\n",
       "      <th>Tweet Id</th>\n",
       "      <th>Text</th>\n",
       "      <th>Username</th>\n",
       "    </tr>\n",
       "  </thead>\n",
       "  <tbody>\n",
       "    <tr>\n",
       "      <th>0</th>\n",
       "      <td>2023-02-06</td>\n",
       "      <td>2023-02-06 10:07:17+00:00</td>\n",
       "      <td>1.622537e+18</td>\n",
       "      <td>$nvda  Top analyst price target for next week ...</td>\n",
       "      <td>RyderJohnston6</td>\n",
       "    </tr>\n",
       "    <tr>\n",
       "      <th>1</th>\n",
       "      <td>2023-02-06</td>\n",
       "      <td>2023-02-06 10:06:30+00:00</td>\n",
       "      <td>1.622537e+18</td>\n",
       "      <td>$nvda Top analyst price target for this week.🔗...</td>\n",
       "      <td>k_mebane</td>\n",
       "    </tr>\n",
       "    <tr>\n",
       "      <th>2</th>\n",
       "      <td>2023-02-06</td>\n",
       "      <td>2023-02-06 10:06:08+00:00</td>\n",
       "      <td>1.622537e+18</td>\n",
       "      <td>$nvda Top analyst price target for next week.....</td>\n",
       "      <td>RonaldBevan2</td>\n",
       "    </tr>\n",
       "    <tr>\n",
       "      <th>3</th>\n",
       "      <td>2023-02-06</td>\n",
       "      <td>2023-02-06 10:05:43+00:00</td>\n",
       "      <td>1.622537e+18</td>\n",
       "      <td>$NVDA Top analyst target price for next week🚀 ...</td>\n",
       "      <td>Eva077777</td>\n",
       "    </tr>\n",
       "    <tr>\n",
       "      <th>4</th>\n",
       "      <td>2023-02-06</td>\n",
       "      <td>2023-02-06 10:03:49+00:00</td>\n",
       "      <td>1.622537e+18</td>\n",
       "      <td>$rsls rebound 🚨🚨🚀🚀🚀\\n————\\n\\n$EDSA\\n$KODK\\n$DO...</td>\n",
       "      <td>MrBlackTrading</td>\n",
       "    </tr>\n",
       "  </tbody>\n",
       "</table>\n",
       "</div>"
      ],
      "text/plain": [
       "         Date                   Datetime      Tweet Id  \\\n",
       "0  2023-02-06  2023-02-06 10:07:17+00:00  1.622537e+18   \n",
       "1  2023-02-06  2023-02-06 10:06:30+00:00  1.622537e+18   \n",
       "2  2023-02-06  2023-02-06 10:06:08+00:00  1.622537e+18   \n",
       "3  2023-02-06  2023-02-06 10:05:43+00:00  1.622537e+18   \n",
       "4  2023-02-06  2023-02-06 10:03:49+00:00  1.622537e+18   \n",
       "\n",
       "                                                Text        Username  \n",
       "0  $nvda  Top analyst price target for next week ...  RyderJohnston6  \n",
       "1  $nvda Top analyst price target for this week.🔗...        k_mebane  \n",
       "2  $nvda Top analyst price target for next week.....    RonaldBevan2  \n",
       "3  $NVDA Top analyst target price for next week🚀 ...       Eva077777  \n",
       "4  $rsls rebound 🚨🚨🚀🚀🚀\\n————\\n\\n$EDSA\\n$KODK\\n$DO...  MrBlackTrading  "
      ]
     },
     "execution_count": 58,
     "metadata": {},
     "output_type": "execute_result"
    }
   ],
   "source": [
    "# Import NVDA tweets CSV into a DataFrame\n",
    "nvda_tweets = pd.read_csv(Path(\"data/nvda-tweets.csv\"))\n",
    "\n",
    "# Remove all rows where 'Datetime' is not a valid date\n",
    "nvda_tweets = nvda_tweets[pd.to_datetime(nvda_tweets['Datetime'], errors='coerce').notnull()]\n",
    "\n",
    "# Convert 'Datetime' column to 'Date' in YYYY-MM-DD format\n",
    "nvda_tweets['Date'] = pd.to_datetime(nvda_tweets['Datetime']).dt.date\n",
    "\n",
    "# Remove unnammed columns\n",
    "nvda_tweets = nvda_tweets.loc[:, ~nvda_tweets.columns.str.contains('^Unnamed')]\n",
    "\n",
    "# Move Date to the first column\n",
    "cols = nvda_tweets.columns.tolist()\n",
    "cols = [cols[-1]] + cols[:-1]\n",
    "nvda_tweets = nvda_tweets[cols]\n",
    "\n",
    "# First and last dates\n",
    "firstDate = nvda_tweets['Date'].min()\n",
    "lastDate = nvda_tweets['Date'].max()\n",
    "print(f\"First date: {firstDate}, Last date: {lastDate}\")\n",
    "\n",
    "# Previews\n",
    "nvda_tweets.head()\n"
   ]
  },
  {
   "cell_type": "code",
   "execution_count": 66,
   "id": "18df0811",
   "metadata": {},
   "outputs": [
    {
     "name": "stdout",
     "output_type": "stream",
     "text": [
      "NVDA stock prices data points: 52\n"
     ]
    },
    {
     "data": {
      "text/html": [
       "<div>\n",
       "<style scoped>\n",
       "    .dataframe tbody tr th:only-of-type {\n",
       "        vertical-align: middle;\n",
       "    }\n",
       "\n",
       "    .dataframe tbody tr th {\n",
       "        vertical-align: top;\n",
       "    }\n",
       "\n",
       "    .dataframe thead th {\n",
       "        text-align: right;\n",
       "    }\n",
       "</style>\n",
       "<table border=\"1\" class=\"dataframe\">\n",
       "  <thead>\n",
       "    <tr style=\"text-align: right;\">\n",
       "      <th></th>\n",
       "      <th>Date</th>\n",
       "      <th>Adj Close</th>\n",
       "      <th>Close</th>\n",
       "      <th>High</th>\n",
       "      <th>Low</th>\n",
       "      <th>Open</th>\n",
       "      <th>Volume</th>\n",
       "    </tr>\n",
       "  </thead>\n",
       "  <tbody>\n",
       "    <tr>\n",
       "      <th>5998</th>\n",
       "      <td>2022-11-21</td>\n",
       "      <td>15.301953</td>\n",
       "      <td>15.317000</td>\n",
       "      <td>15.477000</td>\n",
       "      <td>15.080000</td>\n",
       "      <td>15.147000</td>\n",
       "      <td>404739000</td>\n",
       "    </tr>\n",
       "    <tr>\n",
       "      <th>5999</th>\n",
       "      <td>2022-11-22</td>\n",
       "      <td>16.022243</td>\n",
       "      <td>16.038000</td>\n",
       "      <td>16.058001</td>\n",
       "      <td>15.122000</td>\n",
       "      <td>15.328000</td>\n",
       "      <td>472866000</td>\n",
       "    </tr>\n",
       "    <tr>\n",
       "      <th>6000</th>\n",
       "      <td>2022-11-23</td>\n",
       "      <td>16.502769</td>\n",
       "      <td>16.518999</td>\n",
       "      <td>16.527000</td>\n",
       "      <td>16.048000</td>\n",
       "      <td>16.098000</td>\n",
       "      <td>427241000</td>\n",
       "    </tr>\n",
       "    <tr>\n",
       "      <th>6001</th>\n",
       "      <td>2022-11-25</td>\n",
       "      <td>16.254019</td>\n",
       "      <td>16.270000</td>\n",
       "      <td>16.487000</td>\n",
       "      <td>16.172001</td>\n",
       "      <td>16.318001</td>\n",
       "      <td>167934000</td>\n",
       "    </tr>\n",
       "    <tr>\n",
       "      <th>6002</th>\n",
       "      <td>2022-11-28</td>\n",
       "      <td>15.811451</td>\n",
       "      <td>15.827000</td>\n",
       "      <td>16.357000</td>\n",
       "      <td>15.725000</td>\n",
       "      <td>16.025999</td>\n",
       "      <td>303741000</td>\n",
       "    </tr>\n",
       "  </tbody>\n",
       "</table>\n",
       "</div>"
      ],
      "text/plain": [
       "            Date  Adj Close      Close       High        Low       Open  \\\n",
       "5998  2022-11-21  15.301953  15.317000  15.477000  15.080000  15.147000   \n",
       "5999  2022-11-22  16.022243  16.038000  16.058001  15.122000  15.328000   \n",
       "6000  2022-11-23  16.502769  16.518999  16.527000  16.048000  16.098000   \n",
       "6001  2022-11-25  16.254019  16.270000  16.487000  16.172001  16.318001   \n",
       "6002  2022-11-28  15.811451  15.827000  16.357000  15.725000  16.025999   \n",
       "\n",
       "         Volume  \n",
       "5998  404739000  \n",
       "5999  472866000  \n",
       "6000  427241000  \n",
       "6001  167934000  \n",
       "6002  303741000  "
      ]
     },
     "execution_count": 66,
     "metadata": {},
     "output_type": "execute_result"
    }
   ],
   "source": [
    "# Import NVDA daily stock prices CSV into a DataFrame\n",
    "nvda_prices = pd.read_csv(Path(\"data/nvda-daily-stock-prices.csv\"))\n",
    "\n",
    "# Truncate to only the date range of the tweets\n",
    "nvda_prices['Date'] = pd.to_datetime(nvda_prices['Date']).dt.date\n",
    "nvda_prices = nvda_prices[(nvda_prices['Date'] >= firstDate) & (nvda_prices['Date'] <= lastDate)]\n",
    "\n",
    "# Amount of data\n",
    "print(f\"NVDA stock prices data points: {len(nvda_prices)}\")\n",
    "\n",
    "# Preview\n",
    "nvda_prices.head()"
   ]
  },
  {
   "cell_type": "code",
   "execution_count": 20,
   "id": "a80aa688",
   "metadata": {},
   "outputs": [],
   "source": [
    "# Merge stock prices with tweets on the date\n"
   ]
  },
  {
   "cell_type": "code",
   "execution_count": null,
   "id": "0a9e6a9c",
   "metadata": {},
   "outputs": [],
   "source": []
  }
 ],
 "metadata": {
  "kernelspec": {
   "display_name": ".venv",
   "language": "python",
   "name": "python3"
  },
  "language_info": {
   "codemirror_mode": {
    "name": "ipython",
    "version": 3
   },
   "file_extension": ".py",
   "mimetype": "text/x-python",
   "name": "python",
   "nbconvert_exporter": "python",
   "pygments_lexer": "ipython3",
   "version": "3.13.7"
  }
 },
 "nbformat": 4,
 "nbformat_minor": 5
}
